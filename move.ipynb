{
 "cells": [
  {
   "cell_type": "markdown",
   "metadata": {},
   "source": [
    "#### Terminal Access"
   ]
  },
  {
   "cell_type": "code",
   "execution_count": 1,
   "metadata": {},
   "outputs": [
    {
     "name": "stdout",
     "output_type": "stream",
     "text": [
      "\n",
      "==================================================\n",
      "User message: list files in the current directory\n",
      "==================================================\n",
      "Command Tool\n",
      "Makefile\n",
      "README.md\n",
      "\u001b[34m__pycache__\u001b[m\u001b[m\n",
      "\u001b[34mexperiment\u001b[m\u001b[m\n",
      "main.py\n",
      "\u001b[34mmlx_models\u001b[m\u001b[m\n",
      "move.ipynb\n",
      "pyproject.toml\n",
      "requirements.txt\n",
      "\u001b[34msrc\u001b[m\u001b[m\n",
      "web-voyager.png\n",
      "\n"
     ]
    }
   ],
   "source": [
    "from src import *\n",
    "\n",
    "out = chat_with_llama(\"list files in the current directory\")\n",
    "print(out)\n",
    "\n",
    "# Loop back the observation into itself and ask for the next step"
   ]
  },
  {
   "cell_type": "code",
   "execution_count": 4,
   "metadata": {},
   "outputs": [
    {
     "name": "stdout",
     "output_type": "stream",
     "text": [
      "\n",
      "==================================================\n",
      "User message: execute the python file named finetune_bert\n",
      "==================================================\n",
      "Command Tool\n"
     ]
    },
    {
     "data": {
      "text/plain": [
       "'I am being run\\n'"
      ]
     },
     "execution_count": 4,
     "metadata": {},
     "output_type": "execute_result"
    }
   ],
   "source": [
    "from src import *\n",
    "\n",
    "out = chat_with_llama(\"execute the python file named finetune_bert\")\n",
    "out"
   ]
  },
  {
   "cell_type": "code",
   "execution_count": null,
   "metadata": {},
   "outputs": [],
   "source": []
  }
 ],
 "metadata": {
  "kernelspec": {
   "display_name": "base",
   "language": "python",
   "name": "python3"
  },
  "language_info": {
   "codemirror_mode": {
    "name": "ipython",
    "version": 3
   },
   "file_extension": ".py",
   "mimetype": "text/x-python",
   "name": "python",
   "nbconvert_exporter": "python",
   "pygments_lexer": "ipython3",
   "version": "3.11.5"
  }
 },
 "nbformat": 4,
 "nbformat_minor": 2
}
