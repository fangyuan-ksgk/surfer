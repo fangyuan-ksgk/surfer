{
 "cells": [
  {
   "cell_type": "code",
   "execution_count": 4,
   "metadata": {},
   "outputs": [
    {
     "name": "stdout",
     "output_type": "stream",
     "text": [
      "\n",
      "==================================================\n",
      "User message: find the total size of the files in the current directory\n",
      "==================================================\n",
      "Command Tool\n",
      "4.0K\t./Makefile\n",
      "4.0K\t./README.md\n",
      "4.0K\t./__pycache__\n",
      "  0B\t./elon\n",
      "4.0K\t./experiment\n",
      "4.0K\t./main.py\n",
      "4.0K\t./mlx_models/distil-medium.en\n",
      "4.0K\t./mlx_models\n",
      "4.0K\t./pyproject.toml\n",
      "4.0K\t./requirements.txt\n",
      "4.0K\t./src/mlx_models/distil-medium.en\n",
      "4.0K\t./src/mlx_models\n",
      "364K\t./src/record\n",
      " 40K\t./src/__pycache__\n",
      "452K\t./src\n",
      "4.0K\t./test.ipynb\n",
      "2.2M\t./web-voyager.png\n",
      "2.6M\ttotal\n",
      "\n"
     ]
    }
   ],
   "source": [
    "from src import *\n",
    "\n",
    "out = chat_with_llama(\"find the total size of the files in the current directory\")\n",
    "print(out)"
   ]
  },
  {
   "cell_type": "code",
   "execution_count": null,
   "metadata": {},
   "outputs": [],
   "source": []
  }
 ],
 "metadata": {
  "kernelspec": {
   "display_name": "base",
   "language": "python",
   "name": "python3"
  },
  "language_info": {
   "codemirror_mode": {
    "name": "ipython",
    "version": 3
   },
   "file_extension": ".py",
   "mimetype": "text/x-python",
   "name": "python",
   "nbconvert_exporter": "python",
   "pygments_lexer": "ipython3",
   "version": "3.11.5"
  }
 },
 "nbformat": 4,
 "nbformat_minor": 2
}
