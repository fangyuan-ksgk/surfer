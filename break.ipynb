{
 "cells": [
  {
   "cell_type": "code",
   "execution_count": 1,
   "metadata": {},
   "outputs": [],
   "source": [
    "# Break in a little-bit\n",
    "# We want the Java-level operation here, that's all\n",
    "# !pip install langgraph\n",
    "from src.utils import *"
   ]
  },
  {
   "cell_type": "markdown",
   "metadata": {},
   "source": [
    "#### Progress:\n",
    "* PlayWright only support Async call which complicate things a little bit (but fine it's just another wrapper layer)\n",
    "* Bounding Boxes & Screenshot function is taken care of here (!)\n",
    "* JavaScript functionals are built to access components in the playwright page, and annotated page are returned as a result\n",
    "* The intermediate \"blinking effect\" is the result of the \"markPage()\" function"
   ]
  },
  {
   "cell_type": "code",
   "execution_count": 1,
   "metadata": {},
   "outputs": [
    {
     "name": "stdout",
     "output_type": "stream",
     "text": [
      "Bounding Boxes: \n",
      "[{'x': 111, 'y': 46, 'type': 'svg', 'text': '', 'ariaLabel': ''}, {'x': 635, 'y': 203.9921875, 'type': 'input', 'text': '', 'ariaLabel': 'Email or phone'}, {'x': 635, 'y': 279.9921875, 'type': 'input', 'text': '', 'ariaLabel': 'Password'}, {'x': 756.45703125, 'y': 279.9921875, 'type': 'span', 'text': 'Show', 'ariaLabel': ''}, {'x': 550.875, 'y': 329.9921875, 'type': 'a', 'text': 'Forgot password?', 'ariaLabel': ''}, {'x': 635, 'y': 387.9921875, 'type': 'button', 'text': 'Sign in', 'ariaLabel': 'Sign in'}, {'x': 752.859375, 'y': 466.984375, 'type': 'a', 'text': 'User Agreement', 'ariaLabel': ''}, {'x': 515.484375, 'y': 484.984375, 'type': 'a', 'text': 'User Agreement', 'ariaLabel': ''}, {'x': 596.1328125, 'y': 484.984375, 'type': 'a', 'text': 'Privacy Policy', 'ariaLabel': ''}, {'x': 708.46875, 'y': 484.984375, 'type': 'a', 'text': 'Cookie Policy', 'ariaLabel': ''}, {'x': 560.5537719726562, 'y': 521.6237487792969, 'type': 'path', 'text': '', 'ariaLabel': ''}, {'x': 554.536865234375, 'y': 526.984375, 'type': 'path', 'text': '', 'ariaLabel': ''}, {'x': 560.5199890136719, 'y': 532.3431396484375, 'type': 'path', 'text': '', 'ariaLabel': ''}, {'x': 647.99609375, 'y': 526.984375, 'type': 'span', 'text': 'Continue with Google', 'ariaLabel': ''}, {'x': 563.2875671386719, 'y': 578.984375, 'type': 'path', 'text': '', 'ariaLabel': ''}, {'x': 650.99609375, 'y': 580.984375, 'type': 'span', 'text': 'Sign in with Apple', 'ariaLabel': ''}, {'x': 695.09765625, 'y': 671.984375, 'type': 'a', 'text': 'Join now', 'ariaLabel': ''}]\n",
      "Annotation function pass through\n"
     ]
    },
    {
     "name": "stderr",
     "output_type": "stream",
     "text": [
      "/var/folders/bt/rngwf7wj73x2zfr_7chtd0jh0000gn/T/ipykernel_89590/3855757169.py:53: RuntimeWarning: coroutine 'annotate' was never awaited\n",
      "  annotate(result_dict)\n",
      "RuntimeWarning: Enable tracemalloc to get the object allocation traceback\n"
     ]
    },
    {
     "ename": "",
     "evalue": "",
     "output_type": "error",
     "traceback": [
      "\u001b[1;31mCannot execute code, session has been disposed. Please try restarting the Kernel."
     ]
    },
    {
     "ename": "",
     "evalue": "",
     "output_type": "error",
     "traceback": [
      "\u001b[1;31mCannot execute code, session has been disposed. Please try restarting the Kernel. \n",
      "\u001b[1;31mView Jupyter <a href='command:jupyter.viewOutput'>log</a> for further details."
     ]
    }
   ],
   "source": [
    "\n",
    "import asyncio\n",
    "from playwright.async_api import async_playwright\n",
    "import base64\n",
    "import time\n",
    "\n",
    "with open(\"./src/mark_page.js\") as f:\n",
    "    mark_page_script = f.read()\n",
    "\n",
    "async def mark_page(page):\n",
    "    \"\"\" \n",
    "    This function marks the browser page and returns Image & BBoxes\n",
    "    Useful -- what type is \"page\" here?\n",
    "    \"\"\"\n",
    "    await page.evaluate(mark_page_script)\n",
    "    for _ in range(10):\n",
    "        try:\n",
    "            bboxes = await page.evaluate(\"markPage()\")\n",
    "            break\n",
    "        except:\n",
    "            # May be loading...\n",
    "            asyncio.sleep(3)\n",
    "\n",
    "    time.sleep(4) # Sleeper here extends the period of us witnessing the annotation, which is in the stored image\n",
    "    \n",
    "    screenshot = await page.screenshot() # ScreenShot of the annotated page right here\n",
    "\n",
    "    await page.evaluate(\"unmarkPage()\") # This function remove the marking from the page\n",
    "\n",
    "    return {\n",
    "        \"img\": base64.b64encode(screenshot).decode(),\n",
    "        \"bboxes\": bboxes,\n",
    "    }\n",
    "\n",
    "async def annotate(state):\n",
    "    marked_page = await mark_page.with_retry().ainvoke(state[\"page\"])\n",
    "    return {**state, **marked_page}\n",
    "\n",
    "\n",
    "# Need the surfer agent to help me insert this information to login-into linkedin page\n",
    "my_linkedin_username = \"fangyuan.yu18@gmail.com\"\n",
    "my_linkedin_password = \"5826318\"\n",
    "\n",
    "async def run():\n",
    "    async with async_playwright() as p:\n",
    "        browser = await p.chromium.launch(headless=False)\n",
    "        page = await browser.new_page()\n",
    "        # url = \"https://www.google.com\"\n",
    "        url = \"https://www.linkedin.com/in/matthewgeorgejohnson/recent-activity/all/\"\n",
    "        await page.goto(url)\n",
    "\n",
    "        result_dict = await mark_page(page)\n",
    "        bbox = result_dict[\"bboxes\"]\n",
    "        print(\"Bounding Boxes: \")\n",
    "        print(bbox)\n",
    "\n",
    "        # Annotate bboxes on Page\n",
    "        annotate(result_dict)\n",
    "        print(\"Annotation function pass through\")\n",
    "\n",
    "        import time\n",
    "        time.sleep(88)\n",
    "        # await browser.close()\n",
    "\n",
    "        \n",
    "\n",
    "# Since this is a Jupyter notebook, we should avoid using asyncio.run() directly in the main block.\n",
    "# Instead, we can use the following approach to run the async function in notebooks:\n",
    "import nest_asyncio\n",
    "nest_asyncio.apply()\n",
    "\n",
    "if __name__ == \"__main__\":\n",
    "    asyncio.get_event_loop().run_until_complete(run())\n"
   ]
  },
  {
   "cell_type": "code",
   "execution_count": 6,
   "metadata": {},
   "outputs": [],
   "source": []
  },
  {
   "cell_type": "code",
   "execution_count": null,
   "metadata": {},
   "outputs": [],
   "source": []
  }
 ],
 "metadata": {
  "kernelspec": {
   "display_name": "base",
   "language": "python",
   "name": "python3"
  },
  "language_info": {
   "codemirror_mode": {
    "name": "ipython",
    "version": 3
   },
   "file_extension": ".py",
   "mimetype": "text/x-python",
   "name": "python",
   "nbconvert_exporter": "python",
   "pygments_lexer": "ipython3",
   "version": "3.11.5"
  }
 },
 "nbformat": 4,
 "nbformat_minor": 2
}
